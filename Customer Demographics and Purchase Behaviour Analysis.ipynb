{
 "cells": [
  {
   "cell_type": "markdown",
   "id": "fe015938",
   "metadata": {},
   "source": [
    "## Descriptive Statistics"
   ]
  },
  {
   "cell_type": "code",
   "execution_count": 1,
   "id": "99def6f0",
   "metadata": {},
   "outputs": [],
   "source": [
    "import pandas as pd"
   ]
  },
  {
   "cell_type": "code",
   "execution_count": 2,
   "id": "5ddf17e0",
   "metadata": {},
   "outputs": [],
   "source": [
    "data = pd.read_csv(r\"C:\\Users\\sanji\\Downloads\\archive\\customer_data.csv\")"
   ]
  },
  {
   "cell_type": "code",
   "execution_count": 3,
   "id": "cdedeca9",
   "metadata": {},
   "outputs": [],
   "source": [
    "#Descriptive Statistics for continuous variable\n",
    "\n",
    "descriptive_stats = data[['age', 'income', 'purchase_amount', 'satisfaction_score']].describe()"
   ]
  },
  {
   "cell_type": "code",
   "execution_count": 4,
   "id": "ba183880",
   "metadata": {},
   "outputs": [],
   "source": [
    "# Mode for categorical variables\n",
    "\n",
    "mode_values = data[['gender', 'education', 'region', 'loyalty_status', 'purchase_frequency', 'product_category']].mode()"
   ]
  },
  {
   "cell_type": "code",
   "execution_count": 5,
   "id": "ceb01d41",
   "metadata": {},
   "outputs": [],
   "source": [
    "# Checking for null values\n",
    "null_values = data.isnull().sum()"
   ]
  },
  {
   "cell_type": "code",
   "execution_count": 6,
   "id": "c2c0f7f1",
   "metadata": {},
   "outputs": [
    {
     "name": "stdout",
     "output_type": "stream",
     "text": [
      "Descriptive Statistics:\n",
      "                  age         income  purchase_amount  satisfaction_score\n",
      "count  100000.000000  100000.000000    100000.000000       100000.000000\n",
      "mean       30.003260   27516.269880      9634.790840            5.009650\n",
      "std         4.480535   12996.782587      4799.339449            1.038714\n",
      "min        12.000000    5000.000000      1118.000000            0.000000\n",
      "25%        27.000000   16271.750000      5583.000000            4.000000\n",
      "50%        30.000000   27584.500000      9452.000000            5.000000\n",
      "75%        33.000000   38747.250000     13350.000000            6.000000\n",
      "max        49.000000   50000.000000     26204.000000           10.000000\n"
     ]
    }
   ],
   "source": [
    "print(\"Descriptive Statistics:\\n\", descriptive_stats)"
   ]
  },
  {
   "cell_type": "code",
   "execution_count": 7,
   "id": "91a0a945",
   "metadata": {},
   "outputs": [
    {
     "name": "stdout",
     "output_type": "stream",
     "text": [
      "\n",
      "Mode of Categorical Variables:\n",
      "    gender education region loyalty_status purchase_frequency product_category\n",
      "0  Female   College   East        Regular               rare      Electronics\n"
     ]
    }
   ],
   "source": [
    "print(\"\\nMode of Categorical Variables:\\n\", mode_values)"
   ]
  },
  {
   "cell_type": "code",
   "execution_count": 8,
   "id": "9dcd3de2",
   "metadata": {},
   "outputs": [
    {
     "name": "stdout",
     "output_type": "stream",
     "text": [
      "\n",
      "Null Values in Dataset:\n",
      " id                    0\n",
      "age                   0\n",
      "gender                0\n",
      "income                0\n",
      "education             0\n",
      "region                0\n",
      "loyalty_status        0\n",
      "purchase_frequency    0\n",
      "purchase_amount       0\n",
      "product_category      0\n",
      "promotion_usage       0\n",
      "satisfaction_score    0\n",
      "dtype: int64\n"
     ]
    }
   ],
   "source": [
    "print(\"\\nNull Values in Dataset:\\n\", null_values)"
   ]
  },
  {
   "cell_type": "markdown",
   "id": "7e88a501",
   "metadata": {},
   "source": [
    "## Correlation Analysis (Pearson and Spearman) "
   ]
  },
  {
   "cell_type": "code",
   "execution_count": 9,
   "id": "8f89ab05",
   "metadata": {},
   "outputs": [],
   "source": [
    "# Pearson correlation\n",
    "pearson_corr = data[['age', 'income', 'purchase_amount', 'satisfaction_score']].corr(method='pearson')"
   ]
  },
  {
   "cell_type": "code",
   "execution_count": 11,
   "id": "4f60c8fd",
   "metadata": {},
   "outputs": [],
   "source": [
    "# Spearman correlation\n",
    "spearman_corr = data[['age', 'income', 'purchase_amount', 'satisfaction_score']].corr(method='spearman')"
   ]
  },
  {
   "cell_type": "code",
   "execution_count": 12,
   "id": "31e03c7f",
   "metadata": {},
   "outputs": [
    {
     "name": "stdout",
     "output_type": "stream",
     "text": [
      "Pearson Correlation:\n",
      "                          age    income  purchase_amount  satisfaction_score\n",
      "age                 1.000000 -0.002365        -0.002089            0.000977\n",
      "income             -0.002365  1.000000         0.948441            0.002780\n",
      "purchase_amount    -0.002089  0.948441         1.000000            0.003424\n",
      "satisfaction_score  0.000977  0.002780         0.003424            1.000000\n"
     ]
    }
   ],
   "source": [
    "print(\"Pearson Correlation:\\n\", pearson_corr)"
   ]
  },
  {
   "cell_type": "code",
   "execution_count": 13,
   "id": "10febc33",
   "metadata": {},
   "outputs": [
    {
     "name": "stdout",
     "output_type": "stream",
     "text": [
      "\n",
      "Spearman Correlation:\n",
      "                          age    income  purchase_amount  satisfaction_score\n",
      "age                 1.000000 -0.001554        -0.001402            0.000981\n",
      "income             -0.001554  1.000000         0.957127            0.002483\n",
      "purchase_amount    -0.001402  0.957127         1.000000            0.003473\n",
      "satisfaction_score  0.000981  0.002483         0.003473            1.000000\n"
     ]
    }
   ],
   "source": [
    "print(\"\\nSpearman Correlation:\\n\", spearman_corr)"
   ]
  },
  {
   "cell_type": "markdown",
   "id": "a340a680",
   "metadata": {},
   "source": [
    "##  T-Test for Purchase Amounts Between Males and Females "
   ]
  },
  {
   "cell_type": "code",
   "execution_count": 18,
   "id": "ab7f6692",
   "metadata": {},
   "outputs": [],
   "source": [
    "from scipy import stats\n",
    "\n",
    "# Separating purchase amounts by gender\n",
    "\n",
    "purchase_male = data[data['gender'] == 'Male']['purchase_amount']\n",
    "\n",
    "purchase_female = data[data['gender'] == 'Female']['purchase_amount']"
   ]
  },
  {
   "cell_type": "code",
   "execution_count": 19,
   "id": "1bc83bb8",
   "metadata": {},
   "outputs": [
    {
     "name": "stdout",
     "output_type": "stream",
     "text": [
      "T-statistic: 0.025486783414761002, P-value: 0.9796667412276578\n"
     ]
    }
   ],
   "source": [
    "# Performing a two-sample t-test\n",
    "\n",
    "t_stat, p_value = stats.ttest_ind(purchase_male, purchase_female)\n",
    "\n",
    "print(f\"T-statistic: {t_stat}, P-value: {p_value}\")"
   ]
  },
  {
   "cell_type": "markdown",
   "id": "a5266353",
   "metadata": {},
   "source": [
    "## Chi-Square Test (Gender vs. Loyalty Status) "
   ]
  },
  {
   "cell_type": "code",
   "execution_count": 20,
   "id": "213a3375",
   "metadata": {},
   "outputs": [],
   "source": [
    "# Creating a contingency table\n",
    "\n",
    "contingency_table = pd.crosstab(data['gender'], data['loyalty_status'])"
   ]
  },
  {
   "cell_type": "code",
   "execution_count": 21,
   "id": "52933702",
   "metadata": {},
   "outputs": [
    {
     "name": "stdout",
     "output_type": "stream",
     "text": [
      "Chi-Square Statistic: 3.7564600876982195, P-value: 0.15286042270713818\n"
     ]
    }
   ],
   "source": [
    "# Performing chi-square test\n",
    "\n",
    "chi2_stat, p_val, dof, expected = stats.chi2_contingency(contingency_table)\n",
    "\n",
    "print(f\"Chi-Square Statistic: {chi2_stat}, P-value: {p_val}\")\n"
   ]
  },
  {
   "cell_type": "markdown",
   "id": "c1f8dbfc",
   "metadata": {},
   "source": [
    "##  Z-Score for Outlier Detection (Purchase Amount) "
   ]
  },
  {
   "cell_type": "code",
   "execution_count": 22,
   "id": "937666e6",
   "metadata": {},
   "outputs": [],
   "source": [
    "from scipy.stats import zscore\n",
    "\n",
    "# Calculating Z-scores for purchase amounts\n",
    "\n",
    "data['purchase_amount_zscore'] = zscore(data['purchase_amount'])"
   ]
  },
  {
   "cell_type": "code",
   "execution_count": 23,
   "id": "31a16bd3",
   "metadata": {},
   "outputs": [
    {
     "name": "stdout",
     "output_type": "stream",
     "text": [
      "Outliers Detected:\n",
      "           id  purchase_amount  purchase_amount_zscore\n",
      "1318    1319            24147                3.023808\n",
      "18541  18542            24050                3.003597\n",
      "27084  27085            24314                3.058605\n",
      "39384  39385            24751                3.149659\n",
      "44991  44992            24217                3.038394\n",
      "72791  72792            25406                3.286137\n",
      "73920  73921            24967                3.194666\n",
      "83255  83256            24408                3.078191\n",
      "91489  91490            26204                3.452411\n",
      "92416  92417            24313                3.058396\n"
     ]
    }
   ],
   "source": [
    "# Marking outliers (z-score > 3 or < -3)\n",
    "\n",
    "outliers = data[(data['purchase_amount_zscore'] > 3) | (data['purchase_amount_zscore'] < -3)]\n",
    "\n",
    "print(\"Outliers Detected:\\n\", outliers[['id', 'purchase_amount', 'purchase_amount_zscore']])"
   ]
  },
  {
   "cell_type": "markdown",
   "id": "1b893885",
   "metadata": {},
   "source": [
    "##  Simple Linear Regression (Predict Purchase Amount from Income)"
   ]
  },
  {
   "cell_type": "code",
   "execution_count": 24,
   "id": "a5216016",
   "metadata": {},
   "outputs": [],
   "source": [
    "from sklearn.model_selection import train_test_split\n",
    "from sklearn.linear_model import LinearRegression\n",
    "import matplotlib.pyplot as plt"
   ]
  },
  {
   "cell_type": "code",
   "execution_count": 25,
   "id": "32b34fa8",
   "metadata": {},
   "outputs": [],
   "source": [
    "# Preparing the data\n",
    "\n",
    "X = data[['income']]\n",
    "y = data['purchase_amount']"
   ]
  },
  {
   "cell_type": "code",
   "execution_count": 28,
   "id": "db04dae3",
   "metadata": {},
   "outputs": [],
   "source": [
    "# Splitting the data into training and testing sets\n",
    "\n",
    "X_train, X_test, y_train, y_test = train_test_split(X, y, test_size=0.2, random_state=42)\n",
    "\n",
    "#Training the linear regression model\n",
    "model = LinearRegression()\n",
    "model.fit(X_train, y_train)\n",
    "\n",
    "# Predict and calculate R-squared\n",
    "y_pred = model.predict(X_test)\n",
    "r_squared = model.score(X_test, y_test)\n"
   ]
  },
  {
   "cell_type": "code",
   "execution_count": 29,
   "id": "ed19c067",
   "metadata": {},
   "outputs": [
    {
     "name": "stdout",
     "output_type": "stream",
     "text": [
      "R-squared: 0.8980430941778186\n"
     ]
    },
    {
     "data": {
      "image/png": "[encoded data removed]",
      "text/plain": [
       "<Figure size 640x480 with 1 Axes>"
      ]
     },
     "metadata": {},
     "output_type": "display_data"
    }
   ],
   "source": [
    "\n",
    "\n",
    "print(f\"R-squared: {r_squared}\")\n",
    "\n",
    "# Plot regression line\n",
    "plt.scatter(X_test, y_test, color='blue')\n",
    "plt.plot(X_test, y_pred, color='red')\n",
    "plt.xlabel(\"Income\")\n",
    "plt.ylabel(\"Purchase Amount\")\n",
    "plt.title(\"Linear Regression: Income vs Purchase Amount\")\n",
    "plt.show()\n"
   ]
  },
  {
   "cell_type": "code",
   "execution_count": null,
   "id": "f531c52e",
   "metadata": {},
   "outputs": [],
   "source": []
  }
 ],
 "metadata": {
  "kernelspec": {
   "display_name": "Python 3 (ipykernel)",
   "language": "python",
   "name": "python3"
  },
  "language_info": {
   "codemirror_mode": {
    "name": "ipython",
    "version": 3
   },
   "file_extension": ".py",
   "mimetype": "text/x-python",
   "name": "python",
   "nbconvert_exporter": "python",
   "pygments_lexer": "ipython3",
   "version": "3.11.4"
  }
 },
 "nbformat": 4,
 "nbformat_minor": 5
}
